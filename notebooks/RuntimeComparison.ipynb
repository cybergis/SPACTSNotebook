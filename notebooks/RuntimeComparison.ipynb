{
 "cells": [
  {
   "cell_type": "markdown",
   "id": "55e26587",
   "metadata": {},
   "source": [
    "## Runtime Comparison\n",
    "\n",
    "**Author:** Alex Michels\n",
    "\n",
    "In this notebook we will compare the runtime of our clustering algorithm for travel-time analysis against analyzing each hospital seperately."
   ]
  },
  {
   "cell_type": "markdown",
   "id": "567d8c23",
   "metadata": {},
   "source": [
    "First, we need to load some packages for our analysis:"
   ]
  },
  {
   "cell_type": "code",
   "execution_count": 1,
   "id": "f34d10bf",
   "metadata": {},
   "outputs": [],
   "source": [
    "import datetime\n",
    "from glob import glob\n",
    "from IPython.display import display, Markdown\n",
    "import matplotlib.pyplot as plt\n",
    "import numpy as np\n",
    "import pandas as pd\n",
    "import os"
   ]
  },
  {
   "cell_type": "markdown",
   "id": "0a155481",
   "metadata": {},
   "source": [
    "Each method had a \"Part 1\" and \"Part 2\". \n",
    "\n",
    "* Part 1 perfomed the clustering (or not) and then submitted each hospital/cluster as a seperate job, pausing for 1 second between jobs. \n",
    "* The jobs submitted by Part 1 are the \"Part 2\" jobs. They performed the analysis (travel-time catchment) for the hospital or region assigned to them by Part 1. At the end of each Part 2 job, the job records it's index and runtime in seconds in a file\n",
    "\n",
    "The \"-1\" region index gives the time in seconds recorded by SLURM for the \"Part 1\"s (manually entered from SLURM output) and the rest are the time in seconds (recorded by the Python script). The data is at the path `/data/runtime`. The files ending with \"NM\" stands for \"no merge\" and the files ending with \"XXG\" have the records when applying SPACTS for XX gigabytes memory limit for the computation (so the SPACTS partitioning used XX/2). We ran each method 5 times, let's dig into the data:"
   ]
  },
  {
   "cell_type": "code",
   "execution_count": 2,
   "id": "cdd75783",
   "metadata": {},
   "outputs": [
    {
     "name": "stdout",
     "output_type": "stream",
     "text": [
      "['../data/runtime/Par_Timings-20G-*.csv', '../data/runtime/Par_Timings-26G-*.csv', '../data/runtime/Par_Timings-32G-*.csv', '../data/runtime/Par_Timings-40G-*.csv', '../data/runtime/Par_Timings-48G-*.csv', '../data/runtime/Par_Timings-56G-*.csv', '../data/runtime/Par_Timings-64G-*.csv', '../data/runtime/Par_Timings-72G-*.csv', '../data/runtime/Par_Timings-NM-*.csv']\n"
     ]
    }
   ],
   "source": [
    "time_path = \"../data/runtime/\"\n",
    "runtime_file = \"Par_Timings-{}-*.csv\"\n",
    "runtime_codes = [\"20G\", \"26G\", \"32G\", \"40G\", \"48G\", \"56G\", \"64G\", \"72G\", \"NM\"]\n",
    "runtime_globs = [time_path + runtime_file.format(x) for x in runtime_codes]\n",
    "print(runtime_globs)"
   ]
  },
  {
   "cell_type": "markdown",
   "id": "bbb6fafa",
   "metadata": {},
   "source": [
    "<hr id=\"comparison\">\n",
    "\n",
    "## Analyzing Runtimes\n",
    "\n",
    "Now that we have specified the paths, let's load the SPACTS data:"
   ]
  },
  {
   "cell_type": "code",
   "execution_count": 3,
   "id": "33aeac12",
   "metadata": {
    "scrolled": false
   },
   "outputs": [
    {
     "name": "stdout",
     "output_type": "stream",
     "text": [
      "../data/runtime/Par_Timings-20G-*.csv\n",
      "We have 10 files for code 20G\n",
      "../data/runtime/Par_Timings-26G-*.csv\n",
      "We have 10 files for code 26G\n",
      "../data/runtime/Par_Timings-32G-*.csv\n",
      "We have 10 files for code 32G\n",
      "../data/runtime/Par_Timings-40G-*.csv\n",
      "We have 10 files for code 40G\n",
      "../data/runtime/Par_Timings-48G-*.csv\n",
      "We have 10 files for code 48G\n",
      "../data/runtime/Par_Timings-56G-*.csv\n",
      "We have 10 files for code 56G\n",
      "../data/runtime/Par_Timings-64G-*.csv\n",
      "We have 10 files for code 64G\n",
      "../data/runtime/Par_Timings-72G-*.csv\n",
      "We have 10 files for code 72G\n",
      "../data/runtime/Par_Timings-NM-*.csv\n",
      "We have 10 files for code NM\n"
     ]
    }
   ],
   "source": [
    "csvs = {}\n",
    "for code, pattern in zip(runtime_codes, runtime_globs):\n",
    "    print(pattern)\n",
    "    _files_to_load = glob(pattern)\n",
    "    print(f\"We have {len(_files_to_load)} files for code {code}\")\n",
    "    csvs[code] = []\n",
    "    for _file in _files_to_load:\n",
    "        df = pd.read_csv(_file)\n",
    "        csvs[code].append(df)"
   ]
  },
  {
   "cell_type": "markdown",
   "id": "643fa457",
   "metadata": {},
   "source": [
    "So we have a list of Dataframes. Let's preview one of them:"
   ]
  },
  {
   "cell_type": "code",
   "execution_count": 4,
   "id": "b246a3f5",
   "metadata": {},
   "outputs": [
    {
     "data": {
      "text/html": [
       "<div>\n",
       "<style scoped>\n",
       "    .dataframe tbody tr th:only-of-type {\n",
       "        vertical-align: middle;\n",
       "    }\n",
       "\n",
       "    .dataframe tbody tr th {\n",
       "        vertical-align: top;\n",
       "    }\n",
       "\n",
       "    .dataframe thead th {\n",
       "        text-align: right;\n",
       "    }\n",
       "</style>\n",
       "<table border=\"1\" class=\"dataframe\">\n",
       "  <thead>\n",
       "    <tr style=\"text-align: right;\">\n",
       "      <th></th>\n",
       "      <th>REGION_INDEX</th>\n",
       "      <th>TIME</th>\n",
       "      <th>STARTEND</th>\n",
       "    </tr>\n",
       "  </thead>\n",
       "  <tbody>\n",
       "    <tr>\n",
       "      <th>0</th>\n",
       "      <td>180</td>\n",
       "      <td>30.522297</td>\n",
       "      <td>1.676514e+09</td>\n",
       "    </tr>\n",
       "    <tr>\n",
       "      <th>1</th>\n",
       "      <td>40</td>\n",
       "      <td>66.437288</td>\n",
       "      <td>1.676514e+09</td>\n",
       "    </tr>\n",
       "    <tr>\n",
       "      <th>2</th>\n",
       "      <td>20</td>\n",
       "      <td>72.100801</td>\n",
       "      <td>1.676514e+09</td>\n",
       "    </tr>\n",
       "    <tr>\n",
       "      <th>3</th>\n",
       "      <td>120</td>\n",
       "      <td>75.710777</td>\n",
       "      <td>1.676514e+09</td>\n",
       "    </tr>\n",
       "    <tr>\n",
       "      <th>4</th>\n",
       "      <td>160</td>\n",
       "      <td>76.176649</td>\n",
       "      <td>1.676514e+09</td>\n",
       "    </tr>\n",
       "  </tbody>\n",
       "</table>\n",
       "</div>"
      ],
      "text/plain": [
       "   REGION_INDEX       TIME      STARTEND\n",
       "0           180  30.522297  1.676514e+09\n",
       "1            40  66.437288  1.676514e+09\n",
       "2            20  72.100801  1.676514e+09\n",
       "3           120  75.710777  1.676514e+09\n",
       "4           160  76.176649  1.676514e+09"
      ]
     },
     "execution_count": 4,
     "metadata": {},
     "output_type": "execute_result"
    }
   ],
   "source": [
    "csvs[code][0].head()"
   ]
  },
  {
   "cell_type": "markdown",
   "id": "b6fb0f8f",
   "metadata": {},
   "source": [
    "To know if we were able to speed up or not, we need to calculate the \"no merge\" (NM) average runtime:"
   ]
  },
  {
   "cell_type": "code",
   "execution_count": 5,
   "id": "400a228d",
   "metadata": {},
   "outputs": [
    {
     "name": "stdout",
     "output_type": "stream",
     "text": [
      "23 days, 18:40:50.457408\n"
     ]
    }
   ],
   "source": [
    "no_merge_avg = np.mean([sum(df['TIME']) for df in csvs[\"NM\"]])\n",
    "print(datetime.timedelta(seconds=no_merge_avg))"
   ]
  },
  {
   "cell_type": "markdown",
   "id": "6e44c94f",
   "metadata": {},
   "source": [
    "Using that information, we can now calculate a variety of summary statistics:\n",
    "\n",
    "* Mean Part 1 - the average time for the clustering/job submission step.\n",
    "* Mean Part 2 - the average time for the travel time calculation step.\n",
    "* Mean Total - the average total computing time for the method.\n",
    "* STD Total - the standard deviation for the total computing time for the method.\n",
    "* Waiting Time - the maximum Part 1 and Part 2. This is the worst-case waiting time to get results back if you could run infinite (or at least 7438) jobs at once.\n",
    "* Speed Up - the no merge average computing time divided by the average computing time for the method."
   ]
  },
  {
   "cell_type": "code",
   "execution_count": 6,
   "id": "975e58e7",
   "metadata": {
    "scrolled": true
   },
   "outputs": [
    {
     "data": {
      "text/markdown": [
       "|Method|Mean Job Submission|Mean Travel Analysis|Mean Total|STD Total|Turnaround Time|Speed Up|\n",
       "|-|-|-|-|-|-|-|\n",
       "|20G|0:07:38|15:16:10|15:23:49|0:44:27|0:38:17|37.06x|\n",
       "|26G|0:07:36|14:09:17|14:16:53|0:45:09|0:57:35|39.96x|\n",
       "|32G|0:07:09|11:32:36|11:39:45|0:50:13|0:58:35|48.93x|\n",
       "|40G|0:06:56|11:23:34|11:30:30|0:47:18|0:56:40|49.59x|\n",
       "|48G|0:06:25|10:52:46|10:59:11|0:16:47|1:03:11|51.94x|\n",
       "|56G|0:06:39|11:32:41|11:39:20|0:59:20|1:13:56|48.96x|\n",
       "|64G|0:07:01|11:12:26|11:19:27|0:19:13|1:23:30|50.39x|\n",
       "|72G|0:06:52|12:28:06|12:34:58|1:01:04|1:56:54|45.35x|\n",
       "|NM|0:08:00|23 days, 18:32:51|23 days, 18:40:50|1 day, 5:05:26|0:21:59|1.00x|\n"
      ],
      "text/plain": [
       "<IPython.core.display.Markdown object>"
      ]
     },
     "metadata": {},
     "output_type": "display_data"
    }
   ],
   "source": [
    "table_string = \"|Method|Mean Job Submission|Mean Travel Analysis|Mean Total|STD Total|Turnaround Time|Speed Up|\\n|-|-|-|-|-|-|-|\\n\"\n",
    "for key, val in csvs.items():\n",
    "    table_string += f\"|{key}|\"\n",
    "    mean_part_1 = round(np.mean([df.loc[df['REGION_INDEX']==-1, 'TIME'].values[0] for df in val]))\n",
    "    table_string += f\"{datetime.timedelta(seconds=mean_part_1)}|\"\n",
    "    mean_part_2 = round(np.mean([sum(df.loc[df['REGION_INDEX']>-1, 'TIME']) for df in val]))\n",
    "    mean_total = round(np.mean([sum(df['TIME']) for df in val]))\n",
    "    table_string += f\"{datetime.timedelta(seconds=mean_part_2)}|\"\n",
    "    table_string += f\"{datetime.timedelta(seconds=mean_total)}|\"\n",
    "    std_total = round(np.std([sum(df['TIME']) for df in val]))\n",
    "    table_string += f\"{datetime.timedelta(seconds=std_total)}|\"\n",
    "    max_waiting_time = round(max([df.loc[df['REGION_INDEX']==-1, 'TIME'].values[0] for df in val]) + max([max(df.loc[df['REGION_INDEX']>-1, 'TIME']) for df in val]))\n",
    "    table_string += f\"{datetime.timedelta(seconds=max_waiting_time)}|\"\n",
    "    table_string += f\"{no_merge_avg/mean_total:.2f}x|\"\n",
    "    table_string += \"\\n\"\n",
    "\n",
    "display(Markdown(table_string))"
   ]
  },
  {
   "cell_type": "markdown",
   "id": "96bd5317",
   "metadata": {},
   "source": [
    "Let's make a line graph to illustrate the average computing times with standard deviation error bars. First, let's collect the information we need:"
   ]
  },
  {
   "cell_type": "code",
   "execution_count": 7,
   "id": "23fe07aa",
   "metadata": {},
   "outputs": [
    {
     "data": {
      "text/plain": [
       "([20, 26, 32, 40, 48, 56, 64, 72],\n",
       " [15.396944444444445,\n",
       "  14.28138888888889,\n",
       "  11.6625,\n",
       "  11.508333333333333,\n",
       "  10.98638888888889,\n",
       "  11.655555555555555,\n",
       "  11.324166666666667,\n",
       "  12.582777777777778],\n",
       " [0.7408333333333333,\n",
       "  0.7525,\n",
       "  0.8369444444444445,\n",
       "  0.7883333333333333,\n",
       "  0.2797222222222222,\n",
       "  0.9888888888888889,\n",
       "  0.3202777777777778,\n",
       "  1.0177777777777777])"
      ]
     },
     "execution_count": 7,
     "metadata": {},
     "output_type": "execute_result"
    }
   ],
   "source": [
    "gbs = [int(code[:-1]) for code in runtime_codes[:-1]]\n",
    "means = [round(np.mean([sum(df['TIME']) for df in val])) / 3600.0 for key, val in csvs.items()][:-1]\n",
    "stds = [round(np.std([sum(df['TIME']) for df in val])) / 3600.0 for key, val in csvs.items()][:-1]\n",
    "gbs, means, stds"
   ]
  },
  {
   "cell_type": "markdown",
   "id": "9d16bb25",
   "metadata": {},
   "source": [
    "Then, we can plot it:"
   ]
  },
  {
   "cell_type": "code",
   "execution_count": 8,
   "id": "6c937a9b",
   "metadata": {},
   "outputs": [
    {
     "data": {
      "image/png": "[encoded data removed]",
      "text/plain": [
       "<Figure size 864x576 with 1 Axes>"
      ]
     },
     "metadata": {
      "needs_background": "light"
     },
     "output_type": "display_data"
    }
   ],
   "source": [
    "fig, ax = plt.subplots(figsize=(12, 8))\n",
    "fontsize = 20\n",
    "plt.errorbar(gbs, means, yerr=stds, color='red')\n",
    "plt.xlabel(\"Memory Limit (GB)\", fontsize=fontsize)\n",
    "plt.xticks(gbs, fontsize=fontsize-4)\n",
    "plt.ylabel(\"Mean computing time (hours)\", fontsize=fontsize)\n",
    "plt.yticks(fontsize=fontsize-4)\n",
    "ax.grid('on')\n",
    "plt.tight_layout()\n",
    "plt.savefig(\"../img/Runtimes.jpg\")\n",
    "plt.show()"
   ]
  },
  {
   "cell_type": "code",
   "execution_count": null,
   "id": "8ab31c29",
   "metadata": {},
   "outputs": [],
   "source": []
  }
 ],
 "metadata": {
  "kernelspec": {
   "display_name": "Python 3 (ipykernel)",
   "language": "python",
   "name": "python3"
  },
  "language_info": {
   "codemirror_mode": {
    "name": "ipython",
    "version": 3
   },
   "file_extension": ".py",
   "mimetype": "text/x-python",
   "name": "python",
   "nbconvert_exporter": "python",
   "pygments_lexer": "ipython3",
   "version": "3.8.10"
  }
 },
 "nbformat": 4,
 "nbformat_minor": 5
}
