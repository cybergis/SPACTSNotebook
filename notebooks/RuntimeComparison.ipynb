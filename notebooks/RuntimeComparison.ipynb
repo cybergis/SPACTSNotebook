{
 "cells": [
  {
   "cell_type": "markdown",
   "id": "55e26587",
   "metadata": {},
   "source": [
    "## Runtime Comparison\n",
    "\n",
    "**Author:** Alex Michels\n",
    "\n",
    "In this notebook we will compare the runtime of our clustering algorithm for travel-time analysis against analyzing each hospital seperately."
   ]
  },
  {
   "cell_type": "markdown",
   "id": "567d8c23",
   "metadata": {},
   "source": [
    "## Table of Contents\n",
    "\n",
    "* [Analyzing SPACTS](#spacts)\n",
    "* [Analyzing without SPACTS](#nm)\n",
    "* [Comparison](#comp)\n",
    "\n",
    "First, we need to load some packages for our analysis:"
   ]
  },
  {
   "cell_type": "code",
   "execution_count": 1,
   "id": "f34d10bf",
   "metadata": {},
   "outputs": [],
   "source": [
    "import datetime\n",
    "from IPython.display import display, Markdown\n",
    "import numpy as np\n",
    "import pandas as pd\n",
    "import os"
   ]
  },
  {
   "cell_type": "markdown",
   "id": "0a155481",
   "metadata": {},
   "source": [
    "Each method had a \"Part 1\" and \"Part 2\". \n",
    "\n",
    "* Part 1 perfomed the clustering (or not) and then submitted each hospital/cluster as a seperate job, pausing for 1 second between jobs. \n",
    "* The jobs submitted by Part 1 are the \"Part 2\" jobs. They performed the analysis (travel-time catchment) for the hospital or region assigned to them by Part 1. At the end of each Part 2 job, the job records it's index and runtime in seconds in a file\n",
    "\n",
    "The \"-1\" region index gives the time in seconds recorded by SLURM for the \"Part 1\"s (manually entered from SLURM output) and the rest are the time in seconds (recorded by the Python script). The data is at the path `/data/runtime`. The files ending with \"NM\" stands for \"no merge\" and the files ending with \"Co\" have the records when applying SPACTS. We ran each method 5 times, let's dig into the data:"
   ]
  },
  {
   "cell_type": "code",
   "execution_count": 2,
   "id": "cdd75783",
   "metadata": {},
   "outputs": [],
   "source": [
    "time_path = \"../data/runtime\"\n",
    "spacts_paths = [f\"Par_Timings-Co{i}.csv\" for i in range(1,6)]\n",
    "no_merge_paths = [f\"Par_Timings-NM{i}.csv\" for i in range(1,6)]"
   ]
  },
  {
   "cell_type": "markdown",
   "id": "bbb6fafa",
   "metadata": {},
   "source": [
    "<hr id=\"spacts\">\n",
    "\n",
    "## Analyzing SPACTS\n",
    "\n",
    "Now that we have specified the paths, let's load the SPACTS data:"
   ]
  },
  {
   "cell_type": "code",
   "execution_count": 3,
   "id": "33aeac12",
   "metadata": {},
   "outputs": [],
   "source": [
    "spacts = []\n",
    "for path in spacts_paths:\n",
    "    spacts.append(pd.read_csv(os.path.join(time_path, path)))"
   ]
  },
  {
   "cell_type": "markdown",
   "id": "643fa457",
   "metadata": {},
   "source": [
    "So we have a list of Dataframes. Let's preview one of them:"
   ]
  },
  {
   "cell_type": "code",
   "execution_count": 4,
   "id": "b246a3f5",
   "metadata": {},
   "outputs": [
    {
     "data": {
      "text/html": [
       "<div>\n",
       "<style scoped>\n",
       "    .dataframe tbody tr th:only-of-type {\n",
       "        vertical-align: middle;\n",
       "    }\n",
       "\n",
       "    .dataframe tbody tr th {\n",
       "        vertical-align: top;\n",
       "    }\n",
       "\n",
       "    .dataframe thead th {\n",
       "        text-align: right;\n",
       "    }\n",
       "</style>\n",
       "<table border=\"1\" class=\"dataframe\">\n",
       "  <thead>\n",
       "    <tr style=\"text-align: right;\">\n",
       "      <th></th>\n",
       "      <th>REGION_INDEX</th>\n",
       "      <th>TIME</th>\n",
       "    </tr>\n",
       "  </thead>\n",
       "  <tbody>\n",
       "    <tr>\n",
       "      <th>0</th>\n",
       "      <td>-1</td>\n",
       "      <td>523.000000</td>\n",
       "    </tr>\n",
       "    <tr>\n",
       "      <th>1</th>\n",
       "      <td>1</td>\n",
       "      <td>2058.843962</td>\n",
       "    </tr>\n",
       "    <tr>\n",
       "      <th>2</th>\n",
       "      <td>12</td>\n",
       "      <td>2329.047585</td>\n",
       "    </tr>\n",
       "    <tr>\n",
       "      <th>3</th>\n",
       "      <td>4</td>\n",
       "      <td>2466.289198</td>\n",
       "    </tr>\n",
       "    <tr>\n",
       "      <th>4</th>\n",
       "      <td>9</td>\n",
       "      <td>2682.624517</td>\n",
       "    </tr>\n",
       "  </tbody>\n",
       "</table>\n",
       "</div>"
      ],
      "text/plain": [
       "   REGION_INDEX         TIME\n",
       "0            -1   523.000000\n",
       "1             1  2058.843962\n",
       "2            12  2329.047585\n",
       "3             4  2466.289198\n",
       "4             9  2682.624517"
      ]
     },
     "execution_count": 4,
     "metadata": {},
     "output_type": "execute_result"
    }
   ],
   "source": [
    "spacts[0].head()"
   ]
  },
  {
   "cell_type": "markdown",
   "id": "0745d21a",
   "metadata": {},
   "source": [
    "Now, let's calculate some summary statistics based on that information including the total number or regions, average runtime, etc.:"
   ]
  },
  {
   "cell_type": "code",
   "execution_count": 5,
   "id": "39514d84",
   "metadata": {},
   "outputs": [
    {
     "data": {
      "text/markdown": [
       "|Run|Regions|sum|mean|std|min|max|\n",
       "|-|-|-|-|-|-|-|\n",
       "|0|96|3 days, 17:48:30.234052|0:55:33.095196|0:23:31.631550|0:08:43|3:06:32.631056|\n",
       "|1|96|3 days, 17:35:49.907433|0:55:25.256778|0:23:08.562301|0:08:45|3:07:27.401912|\n",
       "|2|96|3 days, 18:15:35.344157|0:55:49.848909|0:24:17.107448|0:08:36|3:09:16.383331|\n",
       "|3|96|3 days, 17:48:21.821496|0:55:33.008469|0:23:36.130034|0:08:32|3:09:01.244118|\n",
       "|4|96|3 days, 18:17:26.305852|0:55:50.992844|0:23:27.123873|0:08:24|3:08:52.109168|\n"
      ],
      "text/plain": [
       "<IPython.core.display.Markdown object>"
      ]
     },
     "metadata": {},
     "output_type": "display_data"
    }
   ],
   "source": [
    "funcs = [sum, np.mean, np.std, min, max]\n",
    "table_string, second_row = \"|Run|Regions|\", \"\\n|-|-|\"\n",
    "for func in funcs:\n",
    "    table_string += f\"{func.__name__}|\"\n",
    "    second_row += \"-|\"\n",
    "table_string += second_row + \"\\n\"\n",
    "\n",
    "for i, df in enumerate(spacts):\n",
    "    table_string += f\"|{i}|{len(df)-1}|\"\n",
    "    for func in funcs:\n",
    "        table_string += f\"{datetime.timedelta(seconds=func(df['TIME']))}|\"\n",
    "    table_string += \"\\n\"\n",
    "display(Markdown(table_string))"
   ]
  },
  {
   "cell_type": "markdown",
   "id": "e14d5b37",
   "metadata": {},
   "source": [
    "Let's look at the mean value of these summary stats across all runs:"
   ]
  },
  {
   "cell_type": "code",
   "execution_count": 6,
   "id": "8e1fa2af",
   "metadata": {},
   "outputs": [
    {
     "data": {
      "text/markdown": [
       "|sum|mean|std|min|max|\n",
       "|-|-|-|-|-|\n",
       "3 days, 17:57:08.722598|0:55:38.440439|0:23:36.111041|0:08:36|3:08:13.953917|"
      ],
      "text/plain": [
       "<IPython.core.display.Markdown object>"
      ]
     },
     "metadata": {},
     "output_type": "display_data"
    }
   ],
   "source": [
    "table_string, second_row = \"|\", \"\\n|\"\n",
    "for func in funcs:\n",
    "    table_string += f\"{func.__name__}|\"\n",
    "    second_row += \"-|\"\n",
    "table_string += second_row + \"\\n\"\n",
    "\n",
    "for func in funcs:\n",
    "    values = []\n",
    "    for i, df in enumerate(spacts):\n",
    "        values.append(func(df['TIME']))\n",
    "    res = np.mean(values)\n",
    "    table_string += f\"{datetime.timedelta(seconds=res)}|\"\n",
    "display(Markdown(table_string))"
   ]
  },
  {
   "cell_type": "markdown",
   "id": "6acc0f08",
   "metadata": {},
   "source": [
    "We can also look at the results for Part 1 and Part 2 seperately:"
   ]
  },
  {
   "cell_type": "code",
   "execution_count": 7,
   "id": "2224fefe",
   "metadata": {},
   "outputs": [
    {
     "data": {
      "text/markdown": [
       "|Run|Part 1|Part 2|\n",
       "|-|-|-|\n",
       "|0|0:08:43|3 days, 17:39:47.234052\n",
       "|1|0:08:45|3 days, 17:27:04.907433\n",
       "|2|0:08:36|3 days, 18:06:59.344157\n",
       "|3|0:08:32|3 days, 17:39:49.821496\n",
       "|4|0:08:24|3 days, 18:09:02.305852\n"
      ],
      "text/plain": [
       "<IPython.core.display.Markdown object>"
      ]
     },
     "metadata": {},
     "output_type": "display_data"
    }
   ],
   "source": [
    "table_string = \"|Run|Part 1|Part 2|\\n|-|-|-|\\n\"\n",
    "for i, df in enumerate(spacts):\n",
    "    table_string += f\"|{i}|{datetime.timedelta(seconds=df.loc[df['REGION_INDEX']==-1, 'TIME'].values[0])}|{datetime.timedelta(seconds=sum(df.loc[df['REGION_INDEX']>-1, 'TIME']))}\\n\"\n",
    "display(Markdown(table_string))"
   ]
  },
  {
   "cell_type": "markdown",
   "id": "bfc30415",
   "metadata": {},
   "source": [
    "Here, we see that the Part 1s for SPACTS took around 8 and a half minutes. When we consider that there are 96 regions which took around 1.5 mintues to run, we can surmize that SPACTS took around 7 minutes to run. Let's now compare that against the \"no merge\" strategy:"
   ]
  },
  {
   "cell_type": "markdown",
   "id": "d53ec2c6",
   "metadata": {},
   "source": [
    "<hr id=\"nm\" />\n",
    "\n",
    "## Analyzing without SPACTS\n",
    "\n",
    "Now, let's load the runtime data from the analyses that didn't use SPACTS."
   ]
  },
  {
   "cell_type": "code",
   "execution_count": 8,
   "id": "5ed37391",
   "metadata": {},
   "outputs": [],
   "source": [
    "nm = []\n",
    "for path in no_merge_paths:\n",
    "    nm.append(pd.read_csv(os.path.join(time_path, path)))"
   ]
  },
  {
   "cell_type": "markdown",
   "id": "af5f8b5b",
   "metadata": {},
   "source": [
    "Again, we can print summary statistics for each run:"
   ]
  },
  {
   "cell_type": "code",
   "execution_count": 9,
   "id": "26b3734c",
   "metadata": {},
   "outputs": [
    {
     "data": {
      "text/markdown": [
       "|Run|Regions|sum|mean|std|min|max|\n",
       "|-|-|-|-|-|-|-|\n",
       "|0|7437|65 days, 14:18:56.002177|0:12:41.970422|0:09:50.028282|0:00:27.142152|2:04:54|\n",
       "|1|7437|65 days, 15:37:21.864942|0:12:42.603101|0:09:50.506608|0:00:26.517856|2:04:52|\n",
       "|2|7437|65 days, 22:11:24.441628|0:12:45.781721|0:09:53.965067|0:00:25.279490|2:04:48|\n",
       "|3|7437|65 days, 17:48:17.816777|0:12:43.659292|0:09:50.881709|0:00:24.900945|2:04:51|\n",
       "|4|7437|65 days, 12:27:17.626884|0:12:41.069861|0:09:48.581274|0:00:32.727022|2:04:45|\n"
      ],
      "text/plain": [
       "<IPython.core.display.Markdown object>"
      ]
     },
     "metadata": {},
     "output_type": "display_data"
    }
   ],
   "source": [
    "funcs = [sum, np.mean, np.std, min, max]\n",
    "table_string, second_row = \"|Run|Regions|\", \"\\n|-|-|\"\n",
    "for func in funcs:\n",
    "    table_string += f\"{func.__name__}|\"\n",
    "    second_row += \"-|\"\n",
    "table_string += second_row + \"\\n\"\n",
    "\n",
    "for i, df in enumerate(nm):\n",
    "    table_string += f\"|{i}|{len(df)-1}|\"\n",
    "    for func in funcs:\n",
    "        table_string += f\"{datetime.timedelta(seconds=func(df['TIME']))}|\"\n",
    "    table_string += \"\\n\"\n",
    "display(Markdown(table_string))"
   ]
  },
  {
   "cell_type": "markdown",
   "id": "5cac33c3",
   "metadata": {},
   "source": [
    "And get the mean value for each of these summary stats across each run:"
   ]
  },
  {
   "cell_type": "code",
   "execution_count": 10,
   "id": "cbc0f4a4",
   "metadata": {},
   "outputs": [
    {
     "data": {
      "text/markdown": [
       "|sum|mean|std|min|max|\n",
       "|-|-|-|-|-|\n",
       "65 days, 16:28:39.550481|0:12:43.016880|0:09:50.792588|0:00:27.313493|2:04:50|"
      ],
      "text/plain": [
       "<IPython.core.display.Markdown object>"
      ]
     },
     "metadata": {},
     "output_type": "display_data"
    }
   ],
   "source": [
    "table_string, second_row = \"|\", \"\\n|\"\n",
    "for func in funcs:\n",
    "    table_string += f\"{func.__name__}|\"\n",
    "    second_row += \"-|\"\n",
    "table_string += second_row + \"\\n\"\n",
    "\n",
    "for func in funcs:\n",
    "    values = []\n",
    "    for i, df in enumerate(nm):\n",
    "        values.append(func(df['TIME']))\n",
    "    res = np.mean(values)\n",
    "    table_string += f\"{datetime.timedelta(seconds=res)}|\"\n",
    "display(Markdown(table_string))"
   ]
  },
  {
   "cell_type": "markdown",
   "id": "7817dc11",
   "metadata": {},
   "source": [
    "<hr id=\"comp\" />\n",
    "\n",
    "## Comparison\n",
    "\n",
    "Let's compare both methods:"
   ]
  },
  {
   "cell_type": "code",
   "execution_count": 11,
   "id": "975e58e7",
   "metadata": {},
   "outputs": [
    {
     "data": {
      "text/markdown": [
       "|Method|Mean Part 1|Mean Part 2|Mean Total|STD Total|\n",
       "|-|-|-|-|-|\n",
       "|No Clustering|2:04:50|65 days, 14:23:50|65 days, 16:28:40|3:20:46|\n",
       "|SPACTS (9.5GB)|0:08:36|3 days, 17:48:33|3 days, 17:57:09|0:16:29|\n"
      ],
      "text/plain": [
       "<IPython.core.display.Markdown object>"
      ]
     },
     "metadata": {},
     "output_type": "display_data"
    }
   ],
   "source": [
    "table_string = \"|Method|Mean Part 1|Mean Part 2|Mean Total|STD Total|\\n|-|-|-|-|-|\\n\"\n",
    "methods = {\"No Clustering\": nm, \"SPACTS (9.5GB)\": spacts}\n",
    "for key, val in methods.items():\n",
    "    table_string += f\"|{key}|\"\n",
    "    mean_part_1 = round(np.mean([df.loc[df['REGION_INDEX']==-1, 'TIME'].values[0] for df in val]))\n",
    "    table_string += f\"{datetime.timedelta(seconds=mean_part_1)}|\"\n",
    "    mean_part_2 = round(np.mean([sum(df.loc[df['REGION_INDEX']>-1, 'TIME']) for df in val]))\n",
    "    table_string += f\"{datetime.timedelta(seconds=mean_part_2)}|\"\n",
    "    table_string += f\"{datetime.timedelta(seconds=mean_part_1+mean_part_2)}|\"\n",
    "    std_total = round(np.std([sum(df['TIME']) for df in val]))\n",
    "    table_string += f\"{datetime.timedelta(seconds=std_total)}|\"\n",
    "    table_string += \"\\n\"\n",
    "\n",
    "display(Markdown(table_string))"
   ]
  },
  {
   "cell_type": "markdown",
   "id": "a8ec5f8c",
   "metadata": {},
   "source": [
    "Finally, we can calculate the speedup from using SPACTS:"
   ]
  },
  {
   "cell_type": "code",
   "execution_count": 12,
   "id": "d751561a",
   "metadata": {},
   "outputs": [
    {
     "name": "stdout",
     "output_type": "stream",
     "text": [
      "SPACTS lead to a 17.53x speedup!\n"
     ]
    }
   ],
   "source": [
    "avg_spacts = np.mean([sum(df[\"TIME\"]) for df in spacts])\n",
    "avg_no_merge = np.mean([sum(df[\"TIME\"]) for df in nm])\n",
    "print(f\"SPACTS lead to a {avg_no_merge / avg_spacts:.2f}x speedup!\")"
   ]
  },
  {
   "cell_type": "code",
   "execution_count": null,
   "id": "23fe07aa",
   "metadata": {},
   "outputs": [],
   "source": []
  }
 ],
 "metadata": {
  "kernelspec": {
   "display_name": "Python 3 (ipykernel)",
   "language": "python",
   "name": "python3"
  },
  "language_info": {
   "codemirror_mode": {
    "name": "ipython",
    "version": 3
   },
   "file_extension": ".py",
   "mimetype": "text/x-python",
   "name": "python",
   "nbconvert_exporter": "python",
   "pygments_lexer": "ipython3",
   "version": "3.8.10"
  }
 },
 "nbformat": 4,
 "nbformat_minor": 5
}
